{
 "cells": [
  {
   "cell_type": "code",
   "execution_count": 1,
   "id": "49087562-b5f1-49e7-bb69-62f9b1c3153e",
   "metadata": {},
   "outputs": [],
   "source": [
    "import numpy as np"
   ]
  },
  {
   "cell_type": "code",
   "execution_count": 7,
   "id": "64cbccb7-525d-4d53-8761-98a112b0959b",
   "metadata": {},
   "outputs": [],
   "source": [
    "a = np.array([1,2,3,4])\n",
    "b = np.array([[1,3,2],[2,1,3]])"
   ]
  },
  {
   "cell_type": "code",
   "execution_count": 8,
   "id": "b755aef2-7f49-4033-8a20-20ee50d94e74",
   "metadata": {},
   "outputs": [
    {
     "name": "stdout",
     "output_type": "stream",
     "text": [
      "(4,)\n",
      "(2, 3)\n"
     ]
    }
   ],
   "source": [
    "print(a.shape)\n",
    "print(b.shape)"
   ]
  },
  {
   "cell_type": "markdown",
   "id": "cc764a36-6e44-4bc5-b6d0-8b7a26792ed5",
   "metadata": {},
   "source": [
    "**gives the dimensions of our *a* array**"
   ]
  },
  {
   "cell_type": "code",
   "execution_count": 16,
   "id": "d6797315-0007-4be8-9930-c84dfdd93224",
   "metadata": {},
   "outputs": [
    {
     "data": {
      "text/plain": [
       "1"
      ]
     },
     "execution_count": 16,
     "metadata": {},
     "output_type": "execute_result"
    }
   ],
   "source": [
    "a.ndim"
   ]
  },
  {
   "cell_type": "markdown",
   "id": "400eff6c-3cdf-4c3d-8994-94f5dc013c48",
   "metadata": {},
   "source": [
    "**this gives the dimensions of the array b**"
   ]
  },
  {
   "cell_type": "code",
   "execution_count": 15,
   "id": "07054137-afd6-457f-a55f-e133119c8c4c",
   "metadata": {},
   "outputs": [
    {
     "data": {
      "text/plain": [
       "2"
      ]
     },
     "execution_count": 15,
     "metadata": {},
     "output_type": "execute_result"
    }
   ],
   "source": [
    "b.ndim"
   ]
  },
  {
   "cell_type": "markdown",
   "id": "59659a57-e41f-4842-b378-b62ab28c0420",
   "metadata": {},
   "source": [
    "specifying type in array (in this example do 16 bit integer (because values are small)"
   ]
  },
  {
   "cell_type": "code",
   "execution_count": 18,
   "id": "7eeaaaf1-58fd-4bd2-964c-16c26f625868",
   "metadata": {},
   "outputs": [],
   "source": [
    "c = np.array([1,2,4], dtype='int16')"
   ]
  },
  {
   "cell_type": "markdown",
   "id": "e668047d-c1f8-40cd-bb64-870d36bc579c",
   "metadata": {},
   "source": [
    "the following gives us the data type of the array"
   ]
  },
  {
   "cell_type": "code",
   "execution_count": 23,
   "id": "655564e7-c981-4a94-90bb-8ea56f26e8e3",
   "metadata": {},
   "outputs": [
    {
     "name": "stdout",
     "output_type": "stream",
     "text": [
      "int16\n"
     ]
    }
   ],
   "source": [
    "print(c.dtype)"
   ]
  },
  {
   "cell_type": "markdown",
   "id": "e922d2c6-f93d-44d8-84da-3693db94bf64",
   "metadata": {},
   "source": [
    "the following gives us the number of bytes"
   ]
  },
  {
   "cell_type": "code",
   "execution_count": 27,
   "id": "28b6a38f-faea-4bc2-bac4-b258379c7851",
   "metadata": {},
   "outputs": [
    {
     "data": {
      "text/plain": [
       "2"
      ]
     },
     "execution_count": 27,
     "metadata": {},
     "output_type": "execute_result"
    }
   ],
   "source": [
    "c.itemsize"
   ]
  },
  {
   "cell_type": "code",
   "execution_count": 28,
   "id": "eea2f75c-c3fc-4235-a433-9153f43cbd28",
   "metadata": {},
   "outputs": [
    {
     "data": {
      "text/plain": [
       "8"
      ]
     },
     "execution_count": 28,
     "metadata": {},
     "output_type": "execute_result"
    }
   ],
   "source": [
    "a.itemsize"
   ]
  },
  {
   "cell_type": "code",
   "execution_count": null,
   "id": "7fe53c8d-09da-47ab-a26b-45367dbc0169",
   "metadata": {},
   "outputs": [],
   "source": []
  },
  {
   "cell_type": "markdown",
   "id": "88653946-ef43-400c-8e48-281dc54817da",
   "metadata": {},
   "source": [
    "**practicing slicing and indexing:**"
   ]
  },
  {
   "cell_type": "code",
   "execution_count": 32,
   "id": "952c71d2-803f-4621-b865-8512e568ab1c",
   "metadata": {},
   "outputs": [],
   "source": [
    "f = np.array([[1,2,3,4,5,6,7,8],[9,10,11,12,13,14,15,16]], dtype ='int32')"
   ]
  },
  {
   "cell_type": "markdown",
   "id": "071b9e7d-f5d6-4b90-8aff-f295f483d5cc",
   "metadata": {},
   "source": [
    "if we want only the first row"
   ]
  },
  {
   "cell_type": "code",
   "execution_count": 33,
   "id": "adb46bab-2141-4f7d-8a72-f25141abee41",
   "metadata": {},
   "outputs": [
    {
     "data": {
      "text/plain": [
       "array([1, 2, 3, 4, 5, 6, 7, 8], dtype=int32)"
      ]
     },
     "execution_count": 33,
     "metadata": {},
     "output_type": "execute_result"
    }
   ],
   "source": [
    "f[0,:]"
   ]
  },
  {
   "cell_type": "markdown",
   "id": "bbd773b6-5cfa-4105-a862-cc48553a301d",
   "metadata": {},
   "source": [
    "for only the first column:"
   ]
  },
  {
   "cell_type": "code",
   "execution_count": 34,
   "id": "7684f694-0824-4d09-844a-2ff1d00be730",
   "metadata": {},
   "outputs": [
    {
     "data": {
      "text/plain": [
       "array([1, 9], dtype=int32)"
      ]
     },
     "execution_count": 34,
     "metadata": {},
     "output_type": "execute_result"
    }
   ],
   "source": [
    "f[:,0]"
   ]
  },
  {
   "cell_type": "markdown",
   "id": "2f0e23d5-49a4-4edd-852a-50f186d66576",
   "metadata": {},
   "source": [
    "if we want the first 3 elements in all rows:"
   ]
  },
  {
   "cell_type": "code",
   "execution_count": 35,
   "id": "d3278317-3ab5-4782-ba9c-b9d1281adf67",
   "metadata": {},
   "outputs": [
    {
     "data": {
      "text/plain": [
       "array([[ 1,  2,  3],\n",
       "       [ 9, 10, 11]], dtype=int32)"
      ]
     },
     "execution_count": 35,
     "metadata": {},
     "output_type": "execute_result"
    }
   ],
   "source": [
    "f[:,0:3]"
   ]
  },
  {
   "cell_type": "code",
   "execution_count": 36,
   "id": "cabb551c-c19f-487a-8b5a-9ec80eca34c9",
   "metadata": {},
   "outputs": [
    {
     "data": {
      "text/plain": [
       "array([[ 2,  3,  4,  5,  6,  7,  8],\n",
       "       [10, 11, 12, 13, 14, 15, 16]], dtype=int32)"
      ]
     },
     "execution_count": 36,
     "metadata": {},
     "output_type": "execute_result"
    }
   ],
   "source": [
    "f[:,1:]"
   ]
  },
  {
   "cell_type": "code",
   "execution_count": 38,
   "id": "a5cb3dea-0920-4a50-aa15-bc3026fab326",
   "metadata": {},
   "outputs": [
    {
     "data": {
      "text/plain": [
       "(2, 8)"
      ]
     },
     "execution_count": 38,
     "metadata": {},
     "output_type": "execute_result"
    }
   ],
   "source": [
    "f.shape"
   ]
  },
  {
   "cell_type": "markdown",
   "id": "a30519f3-111a-4ae3-a489-01c2b013e01d",
   "metadata": {},
   "source": [
    "**we can change the indexes**"
   ]
  },
  {
   "cell_type": "code",
   "execution_count": 39,
   "id": "795ac9b8-b076-4044-899a-978995c49bca",
   "metadata": {},
   "outputs": [],
   "source": [
    "f[1,1] = 99"
   ]
  },
  {
   "cell_type": "code",
   "execution_count": 40,
   "id": "bc28aa07-0307-4e24-9ad7-71fd7b0d18a6",
   "metadata": {},
   "outputs": [
    {
     "name": "stdout",
     "output_type": "stream",
     "text": [
      "[[ 1  2  3  4  5  6  7  8]\n",
      " [ 9 99 11 12 13 14 15 16]]\n"
     ]
    }
   ],
   "source": [
    "print(f)"
   ]
  },
  {
   "cell_type": "code",
   "execution_count": 41,
   "id": "41ad1cc3-52c4-4e7f-a9a4-018e3f2fafaf",
   "metadata": {},
   "outputs": [],
   "source": [
    "f[:,:] = 1"
   ]
  },
  {
   "cell_type": "code",
   "execution_count": 42,
   "id": "f41af97b-5b4d-4ddb-968a-d2faddca2d82",
   "metadata": {},
   "outputs": [
    {
     "name": "stdout",
     "output_type": "stream",
     "text": [
      "[[1 1 1 1 1 1 1 1]\n",
      " [1 1 1 1 1 1 1 1]]\n"
     ]
    }
   ],
   "source": [
    "print(f)"
   ]
  },
  {
   "cell_type": "code",
   "execution_count": 43,
   "id": "535e3d5a-3d44-4c23-9816-567311672036",
   "metadata": {},
   "outputs": [],
   "source": [
    "f[:,3:] = [3,2,5,1,2]"
   ]
  },
  {
   "cell_type": "code",
   "execution_count": 44,
   "id": "08a0be74-810c-4fc9-8e52-0e06d91c6649",
   "metadata": {},
   "outputs": [
    {
     "name": "stdout",
     "output_type": "stream",
     "text": [
      "[[1 1 1 3 2 5 1 2]\n",
      " [1 1 1 3 2 5 1 2]]\n"
     ]
    }
   ],
   "source": [
    "print(f)"
   ]
  },
  {
   "cell_type": "markdown",
   "id": "71ee50cf-d656-4d18-8b20-51edaaf6219b",
   "metadata": {},
   "source": [
    "for all zeros matrix:"
   ]
  },
  {
   "cell_type": "code",
   "execution_count": 45,
   "id": "a8587afc-3cce-474f-84a1-0ffab4962ec4",
   "metadata": {},
   "outputs": [
    {
     "data": {
      "text/plain": [
       "array([0., 0., 0., 0., 0.])"
      ]
     },
     "execution_count": 45,
     "metadata": {},
     "output_type": "execute_result"
    }
   ],
   "source": [
    "np.zeros(5)"
   ]
  },
  {
   "cell_type": "code",
   "execution_count": 47,
   "id": "7b860c7a-2150-4b8f-b19a-9fa9bfd126f0",
   "metadata": {},
   "outputs": [
    {
     "data": {
      "text/plain": [
       "array([[0., 0., 0.],\n",
       "       [0., 0., 0.]])"
      ]
     },
     "execution_count": 47,
     "metadata": {},
     "output_type": "execute_result"
    }
   ],
   "source": [
    "np.zeros((2,3))"
   ]
  },
  {
   "cell_type": "markdown",
   "id": "0273a4a6-222a-4093-ae49-28fd816cd05a",
   "metadata": {},
   "source": [
    "**we are specifying the dimensions here**"
   ]
  },
  {
   "cell_type": "code",
   "execution_count": 49,
   "id": "40ececb9-8a22-4bfe-812c-0bc1fd21bfe4",
   "metadata": {},
   "outputs": [
    {
     "data": {
      "text/plain": [
       "array([[[1., 1.],\n",
       "        [1., 1.],\n",
       "        [1., 1.]],\n",
       "\n",
       "       [[1., 1.],\n",
       "        [1., 1.],\n",
       "        [1., 1.]],\n",
       "\n",
       "       [[1., 1.],\n",
       "        [1., 1.],\n",
       "        [1., 1.]],\n",
       "\n",
       "       [[1., 1.],\n",
       "        [1., 1.],\n",
       "        [1., 1.]]])"
      ]
     },
     "execution_count": 49,
     "metadata": {},
     "output_type": "execute_result"
    }
   ],
   "source": [
    "np.ones((4,3,2))"
   ]
  },
  {
   "cell_type": "code",
   "execution_count": 50,
   "id": "b369f323-6928-4235-b377-957720ab764c",
   "metadata": {},
   "outputs": [
    {
     "data": {
      "text/plain": [
       "(4, 3, 2)"
      ]
     },
     "execution_count": 50,
     "metadata": {},
     "output_type": "execute_result"
    }
   ],
   "source": [
    "np.ones((4,3,2)).shape"
   ]
  },
  {
   "cell_type": "code",
   "execution_count": 51,
   "id": "9cae644c-1120-43ff-a16c-b255470c848c",
   "metadata": {},
   "outputs": [
    {
     "data": {
      "text/plain": [
       "array([[98, 98],\n",
       "       [98, 98]])"
      ]
     },
     "execution_count": 51,
     "metadata": {},
     "output_type": "execute_result"
    }
   ],
   "source": [
    "np.full((2,2), 98)"
   ]
  },
  {
   "cell_type": "code",
   "execution_count": 52,
   "id": "671fdbf0-83d3-48ab-8822-43ac914e1c6a",
   "metadata": {},
   "outputs": [
    {
     "data": {
      "text/plain": [
       "array([[[1, 1, 1, 1],\n",
       "        [1, 1, 1, 1],\n",
       "        [1, 1, 1, 1],\n",
       "        [1, 1, 1, 1]],\n",
       "\n",
       "       [[1, 1, 1, 1],\n",
       "        [1, 1, 1, 1],\n",
       "        [1, 1, 1, 1],\n",
       "        [1, 1, 1, 1]],\n",
       "\n",
       "       [[1, 1, 1, 1],\n",
       "        [1, 1, 1, 1],\n",
       "        [1, 1, 1, 1],\n",
       "        [1, 1, 1, 1]],\n",
       "\n",
       "       [[1, 1, 1, 1],\n",
       "        [1, 1, 1, 1],\n",
       "        [1, 1, 1, 1],\n",
       "        [1, 1, 1, 1]]], dtype=int16)"
      ]
     },
     "execution_count": 52,
     "metadata": {},
     "output_type": "execute_result"
    }
   ],
   "source": [
    "np.full((4,4,4), 1, dtype='int16')"
   ]
  },
  {
   "cell_type": "code",
   "execution_count": 53,
   "id": "47c1b767-e264-4dab-a15e-d78e77d7db1c",
   "metadata": {},
   "outputs": [],
   "source": [
    "a = np.array([1,2,3])"
   ]
  },
  {
   "cell_type": "code",
   "execution_count": 54,
   "id": "4b27618e-a590-41d8-bba9-4ef7a926eef0",
   "metadata": {},
   "outputs": [
    {
     "data": {
      "text/plain": [
       "array([5, 5, 5])"
      ]
     },
     "execution_count": 54,
     "metadata": {},
     "output_type": "execute_result"
    }
   ],
   "source": [
    "np.full(a.shape,5)"
   ]
  },
  {
   "cell_type": "code",
   "execution_count": 55,
   "id": "b16b295d-2aed-4739-931e-de084401063f",
   "metadata": {},
   "outputs": [
    {
     "data": {
      "text/plain": [
       "array([[0.9549209 , 0.95519481],\n",
       "       [0.79870586, 0.34375813],\n",
       "       [0.09418452, 0.09217502],\n",
       "       [0.89667814, 0.10145671]])"
      ]
     },
     "execution_count": 55,
     "metadata": {},
     "output_type": "execute_result"
    }
   ],
   "source": [
    "np.random.rand(4,2)"
   ]
  },
  {
   "cell_type": "code",
   "execution_count": 56,
   "id": "a603cbdd-ed3e-4627-9958-6207cab9123d",
   "metadata": {},
   "outputs": [
    {
     "data": {
      "text/plain": [
       "array([[[0.86169034, 0.78845537],\n",
       "        [0.14149583, 0.5204439 ],\n",
       "        [0.47285621, 0.96716072]],\n",
       "\n",
       "       [[0.79722133, 0.70369758],\n",
       "        [0.03568894, 0.76596458],\n",
       "        [0.61312166, 0.983001  ]],\n",
       "\n",
       "       [[0.67755993, 0.071278  ],\n",
       "        [0.80843102, 0.94187056],\n",
       "        [0.85940815, 0.5474846 ]],\n",
       "\n",
       "       [[0.86117075, 0.10991533],\n",
       "        [0.83631137, 0.67308161],\n",
       "        [0.09201468, 0.53490215]]])"
      ]
     },
     "execution_count": 56,
     "metadata": {},
     "output_type": "execute_result"
    }
   ],
   "source": [
    "np.random.rand(4,3,2)"
   ]
  },
  {
   "cell_type": "markdown",
   "id": "74857b48-7001-4b13-a3bc-3dc924546ae7",
   "metadata": {},
   "source": [
    "**these are generating random numbers between zero and 1**"
   ]
  },
  {
   "cell_type": "code",
   "execution_count": 58,
   "id": "2c095c9b-ae97-4d87-9e01-820510d19ba3",
   "metadata": {},
   "outputs": [
    {
     "data": {
      "text/plain": [
       "array([0.26361497, 0.3306412 , 0.50953656])"
      ]
     },
     "execution_count": 58,
     "metadata": {},
     "output_type": "execute_result"
    }
   ],
   "source": [
    "np.random.random_sample(a.shape)"
   ]
  },
  {
   "cell_type": "code",
   "execution_count": 61,
   "id": "f327cff7-6638-439c-b8a6-3eec888d1d5e",
   "metadata": {},
   "outputs": [
    {
     "data": {
      "text/plain": [
       "5"
      ]
     },
     "execution_count": 61,
     "metadata": {},
     "output_type": "execute_result"
    }
   ],
   "source": [
    "np.random.randint(7)"
   ]
  },
  {
   "cell_type": "code",
   "execution_count": 62,
   "id": "0b8524b6-2fbd-4198-82b6-b343885fc5d0",
   "metadata": {},
   "outputs": [
    {
     "data": {
      "text/plain": [
       "6"
      ]
     },
     "execution_count": 62,
     "metadata": {},
     "output_type": "execute_result"
    }
   ],
   "source": [
    "np.random.randint(3,12)"
   ]
  },
  {
   "cell_type": "code",
   "execution_count": 63,
   "id": "bbad1937-41f2-4952-b7f7-fb31c076ed2d",
   "metadata": {},
   "outputs": [
    {
     "data": {
      "text/plain": [
       "array([[4, 2],\n",
       "       [2, 2],\n",
       "       [4, 4],\n",
       "       [2, 4]])"
      ]
     },
     "execution_count": 63,
     "metadata": {},
     "output_type": "execute_result"
    }
   ],
   "source": [
    "np.random.randint(2,5, size = (4,2))"
   ]
  },
  {
   "cell_type": "code",
   "execution_count": 64,
   "id": "0cf52afb-646f-4c3e-a608-da59f468cace",
   "metadata": {},
   "outputs": [
    {
     "data": {
      "text/plain": [
       "array([[ 1,  2,  8,  2],\n",
       "       [-1,  0, -2,  3],\n",
       "       [ 1,  4, -1,  2]])"
      ]
     },
     "execution_count": 64,
     "metadata": {},
     "output_type": "execute_result"
    }
   ],
   "source": [
    "np.random.randint(-4,10, size = (3,4))"
   ]
  },
  {
   "cell_type": "code",
   "execution_count": 70,
   "id": "9381b220-584f-43e9-bcee-2f83d17f00e1",
   "metadata": {},
   "outputs": [
    {
     "name": "stdout",
     "output_type": "stream",
     "text": [
      "[[1 2 3]\n",
      " [1 2 3]\n",
      " [1 2 3]]\n"
     ]
    }
   ],
   "source": [
    "arr = np.array([[1,2,3]])\n",
    "r1 = np.repeat(arr,3,axis = 0)\n",
    "print(r1)"
   ]
  },
  {
   "cell_type": "markdown",
   "id": "a2c540af-f618-48bb-a462-f607f8d81d68",
   "metadata": {},
   "source": [
    "**the axis in this case seems to represent what dimension of the array we are repeating**"
   ]
  },
  {
   "cell_type": "code",
   "execution_count": 71,
   "id": "a81fc0d5-5d1d-441e-a6ee-8f5beae5593f",
   "metadata": {},
   "outputs": [],
   "source": [
    "r1 = np.repeat(arr, 4, axis = 1)"
   ]
  },
  {
   "cell_type": "code",
   "execution_count": 72,
   "id": "db741391-7a38-48be-a990-fd8798721636",
   "metadata": {},
   "outputs": [
    {
     "name": "stdout",
     "output_type": "stream",
     "text": [
      "[[1 1 1 1 2 2 2 2 3 3 3 3]]\n"
     ]
    }
   ],
   "source": [
    "print(r1)"
   ]
  },
  {
   "cell_type": "code",
   "execution_count": 76,
   "id": "e8f8708c-d75e-45d3-b389-46803ee282fd",
   "metadata": {},
   "outputs": [
    {
     "name": "stdout",
     "output_type": "stream",
     "text": [
      "[[1. 1. 1. 1. 1.]\n",
      " [1. 1. 1. 1. 1.]\n",
      " [1. 1. 1. 1. 1.]\n",
      " [1. 1. 1. 1. 1.]\n",
      " [1. 1. 1. 1. 1.]]\n",
      "[[0. 0. 0.]\n",
      " [0. 9. 0.]\n",
      " [0. 0. 0.]]\n"
     ]
    }
   ],
   "source": [
    "output = np.ones((5,5))\n",
    "print(output)\n",
    "\n",
    "z = np.zeros((3,3))\n",
    "z[1,1] = 9\n",
    "print(z)\n",
    "\n",
    "output[1:4,1:4] = z"
   ]
  },
  {
   "cell_type": "code",
   "execution_count": null,
   "id": "e63813ca-99c2-43bb-85fa-d106f18e77d2",
   "metadata": {},
   "outputs": [],
   "source": []
  },
  {
   "cell_type": "code",
   "execution_count": 77,
   "id": "500fbdad-53ba-4050-81eb-85e637ee5b02",
   "metadata": {},
   "outputs": [
    {
     "data": {
      "text/plain": [
       "(3, 3)"
      ]
     },
     "execution_count": 77,
     "metadata": {},
     "output_type": "execute_result"
    }
   ],
   "source": [
    "z.shape"
   ]
  },
  {
   "cell_type": "code",
   "execution_count": 78,
   "id": "64c7274f-8a05-4544-a3c7-bc050cc63ecd",
   "metadata": {},
   "outputs": [
    {
     "data": {
      "text/plain": [
       "(5, 5)"
      ]
     },
     "execution_count": 78,
     "metadata": {},
     "output_type": "execute_result"
    }
   ],
   "source": [
    "output.shape"
   ]
  },
  {
   "cell_type": "markdown",
   "id": "02f3ab22-404e-4727-8053-01c57fea5651",
   "metadata": {},
   "source": [
    "##### ***BE CAREFUL WHEN COPYING ARRAYS!***"
   ]
  },
  {
   "cell_type": "code",
   "execution_count": 79,
   "id": "dfd328fb-d0e1-44ed-9146-354c860d8458",
   "metadata": {},
   "outputs": [],
   "source": [
    "a = np.array([2,32,123])\n",
    "b = a"
   ]
  },
  {
   "cell_type": "code",
   "execution_count": 80,
   "id": "f32198b9-b918-4f13-a22f-b69788e82bee",
   "metadata": {},
   "outputs": [
    {
     "name": "stdout",
     "output_type": "stream",
     "text": [
      "[100  32 123]\n"
     ]
    }
   ],
   "source": [
    "b[0] = 100\n",
    "print(a)"
   ]
  },
  {
   "cell_type": "markdown",
   "id": "30832c70-78db-4f5e-905d-5fa2d99b651b",
   "metadata": {},
   "source": [
    "This is similar to how lists work in python. our variables are pointing to the same array object, so to copy an array we can do a.copy"
   ]
  },
  {
   "cell_type": "code",
   "execution_count": 81,
   "id": "3e946d4f-30f8-489e-affd-ea0bf9f51682",
   "metadata": {},
   "outputs": [],
   "source": [
    "c = a.copy()"
   ]
  },
  {
   "cell_type": "code",
   "execution_count": 82,
   "id": "399b465b-3140-4c84-bade-36c26d480a6a",
   "metadata": {},
   "outputs": [
    {
     "name": "stdout",
     "output_type": "stream",
     "text": [
      "[100  32 123]\n",
      "[2222   32  123]\n"
     ]
    }
   ],
   "source": [
    "c[0] = 2222\n",
    "print(a)\n",
    "print(c)"
   ]
  },
  {
   "cell_type": "code",
   "execution_count": 84,
   "id": "0495c4a0-c510-431a-9097-9e6bba44dc9a",
   "metadata": {},
   "outputs": [
    {
     "name": "stdout",
     "output_type": "stream",
     "text": [
      "[4444   64  246]\n"
     ]
    }
   ],
   "source": [
    "c = c*2\n",
    "print(c)"
   ]
  },
  {
   "cell_type": "code",
   "execution_count": 86,
   "id": "5563c39a-b0f7-4774-8c3a-85cf379a7a51",
   "metadata": {},
   "outputs": [
    {
     "name": "stdout",
     "output_type": "stream",
     "text": [
      "[1111.    16.    61.5]\n"
     ]
    }
   ],
   "source": [
    "c = c/2\n",
    "print(c)"
   ]
  },
  {
   "cell_type": "code",
   "execution_count": 87,
   "id": "7c7b1f20-f77a-4418-992a-55a0390c46a7",
   "metadata": {},
   "outputs": [
    {
     "name": "stdout",
     "output_type": "stream",
     "text": [
      "[1.234321e+06 2.560000e+02 3.782250e+03]\n"
     ]
    }
   ],
   "source": [
    "c = c**2\n",
    "print(c)"
   ]
  },
  {
   "cell_type": "code",
   "execution_count": 88,
   "id": "ef64f445-1eed-413a-8847-de2e21b30c60",
   "metadata": {},
   "outputs": [
    {
     "name": "stdout",
     "output_type": "stream",
     "text": [
      "[-0.2396243  -0.03979076  0.97422091]\n"
     ]
    }
   ],
   "source": [
    "k = np.cos(c)\n",
    "print(k)"
   ]
  },
  {
   "cell_type": "markdown",
   "id": "a4bc4db9-bbff-45da-9d50-70c3a65622b3",
   "metadata": {},
   "source": [
    "***LINEAR ALGEBRA***"
   ]
  },
  {
   "cell_type": "code",
   "execution_count": 98,
   "id": "437d9db2-c494-4087-b9b6-6f359744eac9",
   "metadata": {},
   "outputs": [
    {
     "name": "stdout",
     "output_type": "stream",
     "text": [
      "[[1. 1. 1.]\n",
      " [1. 1. 1.]]\n",
      "[[2 2]\n",
      " [2 2]\n",
      " [2 2]]\n"
     ]
    }
   ],
   "source": [
    "a = np.ones((2,3))\n",
    "b = np.full((3,2),2)\n",
    "print(a)\n",
    "print(b)"
   ]
  },
  {
   "cell_type": "markdown",
   "id": "277b157b-2634-4309-90f6-ce83ee75b026",
   "metadata": {},
   "source": [
    "NOTICE THAT WE CAN MULTIPLY A AND B. we can multiply the columns of A by the rows of b to get a 2x2 matrix or a 3x3 matrix if we do a,b we are actually doing a on to b ie using a columns on to b rows, b,a is doing b columns on to a rows."
   ]
  },
  {
   "cell_type": "code",
   "execution_count": 97,
   "id": "34d02a28-1e61-46db-8d65-50b731625117",
   "metadata": {},
   "outputs": [
    {
     "data": {
      "text/plain": [
       "array([[4., 4., 4.],\n",
       "       [4., 4., 4.],\n",
       "       [4., 4., 4.]])"
      ]
     },
     "execution_count": 97,
     "metadata": {},
     "output_type": "execute_result"
    }
   ],
   "source": [
    "np.matmul(a,b)"
   ]
  },
  {
   "cell_type": "code",
   "execution_count": 99,
   "id": "3ed60fec-bcea-4dec-aba7-0190f0a2b504",
   "metadata": {},
   "outputs": [
    {
     "data": {
      "text/plain": [
       "array([[4., 4., 4.],\n",
       "       [4., 4., 4.],\n",
       "       [4., 4., 4.]])"
      ]
     },
     "execution_count": 99,
     "metadata": {},
     "output_type": "execute_result"
    }
   ],
   "source": [
    "np.matmul(b,a)"
   ]
  },
  {
   "cell_type": "markdown",
   "id": "632547ed-84f7-48b8-aee6-4c6834e9c8ec",
   "metadata": {},
   "source": [
    "*** finding the determinant***\n",
    "(we can also do things like eigen vectors etc."
   ]
  },
  {
   "cell_type": "code",
   "execution_count": 100,
   "id": "2011508b-20bf-4fe9-9b37-f77961df576e",
   "metadata": {},
   "outputs": [
    {
     "data": {
      "text/plain": [
       "np.float64(1.0)"
      ]
     },
     "execution_count": 100,
     "metadata": {},
     "output_type": "execute_result"
    }
   ],
   "source": [
    "c = np.identity(3)\n",
    "np.linalg.det(c)"
   ]
  },
  {
   "cell_type": "markdown",
   "id": "e4f4299f-4c5e-4cde-8fd7-837ce21142fc",
   "metadata": {},
   "source": [
    "***statistics***"
   ]
  },
  {
   "cell_type": "code",
   "execution_count": 101,
   "id": "7250c4c5-93dd-4a22-a385-d6e512512aeb",
   "metadata": {},
   "outputs": [],
   "source": [
    "a = np.array([3,3,34])"
   ]
  },
  {
   "cell_type": "code",
   "execution_count": 102,
   "id": "d5941a68-4e22-411f-aec9-46f183d94ebd",
   "metadata": {},
   "outputs": [
    {
     "data": {
      "text/plain": [
       "np.int64(34)"
      ]
     },
     "execution_count": 102,
     "metadata": {},
     "output_type": "execute_result"
    }
   ],
   "source": [
    "np.max(a)"
   ]
  },
  {
   "cell_type": "code",
   "execution_count": 106,
   "id": "73499dd1-2789-41d1-84ad-c8d103e0fa93",
   "metadata": {},
   "outputs": [
    {
     "data": {
      "text/plain": [
       "array([ 3,  4,  5,  2,  3, 34])"
      ]
     },
     "execution_count": 106,
     "metadata": {},
     "output_type": "execute_result"
    }
   ],
   "source": [
    "k = np.array([3,4,5,2,3,34])\n",
    "k"
   ]
  },
  {
   "cell_type": "code",
   "execution_count": 107,
   "id": "53916575-3d3a-4676-a57a-f02110deb393",
   "metadata": {},
   "outputs": [
    {
     "data": {
      "text/plain": [
       "np.int64(2)"
      ]
     },
     "execution_count": 107,
     "metadata": {},
     "output_type": "execute_result"
    }
   ],
   "source": [
    "np.min(k)\n"
   ]
  },
  {
   "cell_type": "code",
   "execution_count": 108,
   "id": "9c832d61-7285-4617-9164-587f777bef0d",
   "metadata": {},
   "outputs": [
    {
     "data": {
      "text/plain": [
       "np.float64(8.5)"
      ]
     },
     "execution_count": 108,
     "metadata": {},
     "output_type": "execute_result"
    }
   ],
   "source": [
    "np.mean(k)"
   ]
  },
  {
   "cell_type": "code",
   "execution_count": 110,
   "id": "4f19dec6-4214-44c4-abe2-bdc39f4a9928",
   "metadata": {},
   "outputs": [
    {
     "data": {
      "text/plain": [
       "np.int64(51)"
      ]
     },
     "execution_count": 110,
     "metadata": {},
     "output_type": "execute_result"
    }
   ],
   "source": [
    "np.sum(k)"
   ]
  },
  {
   "cell_type": "markdown",
   "id": "c5d9147c-d7e0-4fff-b9ea-9726991b6bfe",
   "metadata": {},
   "source": [
    "***Reorganizing arrays***"
   ]
  },
  {
   "cell_type": "code",
   "execution_count": 111,
   "id": "6190e302-4b70-4728-931f-c02b177d242f",
   "metadata": {},
   "outputs": [
    {
     "name": "stdout",
     "output_type": "stream",
     "text": [
      "[[1 2 3 4]\n",
      " [5 6 7 8]]\n"
     ]
    }
   ],
   "source": [
    "before = np.array([[1,2,3,4],[5,6,7,8]])\n",
    "print(before)"
   ]
  },
  {
   "cell_type": "code",
   "execution_count": 112,
   "id": "55be002f-326d-42cd-829b-617b5ec522dd",
   "metadata": {},
   "outputs": [],
   "source": [
    "after = before.reshape((8,1))"
   ]
  },
  {
   "cell_type": "code",
   "execution_count": 113,
   "id": "3cdc2abd-b4cc-4d37-a88a-4e3e647ae338",
   "metadata": {},
   "outputs": [
    {
     "name": "stdout",
     "output_type": "stream",
     "text": [
      "[[1]\n",
      " [2]\n",
      " [3]\n",
      " [4]\n",
      " [5]\n",
      " [6]\n",
      " [7]\n",
      " [8]]\n"
     ]
    }
   ],
   "source": [
    "print(after)"
   ]
  },
  {
   "cell_type": "code",
   "execution_count": 114,
   "id": "2b6218ef-804c-4e82-92ae-c58ec8789874",
   "metadata": {},
   "outputs": [],
   "source": [
    "after = before.reshape((2,2,2))"
   ]
  },
  {
   "cell_type": "code",
   "execution_count": 115,
   "id": "bfe1e4bd-59e8-4e7f-9cb9-212fab0c7150",
   "metadata": {},
   "outputs": [
    {
     "name": "stdout",
     "output_type": "stream",
     "text": [
      "[[[1 2]\n",
      "  [3 4]]\n",
      "\n",
      " [[5 6]\n",
      "  [7 8]]]\n"
     ]
    }
   ],
   "source": [
    "print(after)"
   ]
  },
  {
   "cell_type": "code",
   "execution_count": 121,
   "id": "7f9dd350-714a-470d-9e9d-d400e2adc6d9",
   "metadata": {},
   "outputs": [
    {
     "data": {
      "text/plain": [
       "array([[1, 2, 3, 4],\n",
       "       [5, 6, 7, 8]])"
      ]
     },
     "execution_count": 121,
     "metadata": {},
     "output_type": "execute_result"
    }
   ],
   "source": [
    "# verticallly stacking vectors/matrices\n",
    "v1 = np.array([1,2,3,4])\n",
    "v2 = np.array([5,6,7,8])\n",
    "np.vstack((v1,v2))"
   ]
  },
  {
   "cell_type": "code",
   "execution_count": 122,
   "id": "f26d5d67-c0f1-483d-b88c-48ad3d7fc8bc",
   "metadata": {},
   "outputs": [
    {
     "data": {
      "text/plain": [
       "array([1, 2, 3, 4, 5, 6, 7, 8])"
      ]
     },
     "execution_count": 122,
     "metadata": {},
     "output_type": "execute_result"
    }
   ],
   "source": [
    "np.hstack((v1,v2))"
   ]
  },
  {
   "cell_type": "code",
   "execution_count": 123,
   "id": "0431fabc-46a3-4209-b5a5-5aa55bb0cd6e",
   "metadata": {},
   "outputs": [],
   "source": [
    "# miscellaneous"
   ]
  },
  {
   "cell_type": "code",
   "execution_count": 124,
   "id": "2e0ed394-9de1-4a51-9ac9-d0c051471b92",
   "metadata": {},
   "outputs": [],
   "source": [
    "#load file from data"
   ]
  },
  {
   "cell_type": "code",
   "execution_count": 125,
   "id": "87a8062f-70cd-41dd-be8d-3bbaf70bbc08",
   "metadata": {},
   "outputs": [],
   "source": [
    "# np.genfromtxt('data.txt', delimiter=','), this will return to use an arrrray of data split with the given delimeter. we can also make all in n array\n",
    "#the same type ie:"
   ]
  },
  {
   "cell_type": "code",
   "execution_count": 128,
   "id": "f0395f70-d7ef-4000-bb13-7cadc23847e1",
   "metadata": {},
   "outputs": [
    {
     "name": "stdout",
     "output_type": "stream",
     "text": [
      "[1. 2. 3. 4.]\n",
      "float64\n"
     ]
    }
   ],
   "source": [
    "v1 = v1.astype('float')\n",
    "print(v1)\n",
    "print(v1.dtype)"
   ]
  },
  {
   "cell_type": "markdown",
   "id": "93827563-470c-4585-80fb-952a614ad13a",
   "metadata": {},
   "source": [
    "***BOOL masking and advanced indexing***"
   ]
  },
  {
   "cell_type": "code",
   "execution_count": null,
   "id": "4c0ab4a7-f6a8-4b3f-91da-b29576863a08",
   "metadata": {},
   "outputs": [],
   "source": [
    "# we could do filedata > 50 and this will go through all the data and give true or false values for every thing."
   ]
  }
 ],
 "metadata": {
  "kernelspec": {
   "display_name": "Python 3 (ipykernel)",
   "language": "python",
   "name": "python3"
  },
  "language_info": {
   "codemirror_mode": {
    "name": "ipython",
    "version": 3
   },
   "file_extension": ".py",
   "mimetype": "text/x-python",
   "name": "python",
   "nbconvert_exporter": "python",
   "pygments_lexer": "ipython3",
   "version": "3.12.2"
  }
 },
 "nbformat": 4,
 "nbformat_minor": 5
}
